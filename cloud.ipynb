{
 "cells": [
  {
   "cell_type": "code",
   "execution_count": 1,
   "metadata": {},
   "outputs": [],
   "source": [
    "import pandas as pd\n",
    "import numpy as np"
   ]
  },
  {
   "cell_type": "code",
   "execution_count": 2,
   "metadata": {},
   "outputs": [],
   "source": [
    "import pyodbc\n",
    "from sqlalchemy import create_engine\n",
    "from sqlalchemy.types import NVARCHAR"
   ]
  },
  {
   "cell_type": "code",
   "execution_count": 3,
   "metadata": {},
   "outputs": [
    {
     "data": {
      "text/html": [
       "<div>\n",
       "<style scoped>\n",
       "    .dataframe tbody tr th:only-of-type {\n",
       "        vertical-align: middle;\n",
       "    }\n",
       "\n",
       "    .dataframe tbody tr th {\n",
       "        vertical-align: top;\n",
       "    }\n",
       "\n",
       "    .dataframe thead th {\n",
       "        text-align: right;\n",
       "    }\n",
       "</style>\n",
       "<table border=\"1\" class=\"dataframe\">\n",
       "  <thead>\n",
       "    <tr style=\"text-align: right;\">\n",
       "      <th></th>\n",
       "      <th>Tên sp</th>\n",
       "      <th>Comments</th>\n",
       "      <th>Time rating</th>\n",
       "      <th>Mô tả sản phẩm</th>\n",
       "      <th>Chất lượng sản phẩm</th>\n",
       "      <th>Chất lượng vận chuyển</th>\n",
       "    </tr>\n",
       "  </thead>\n",
       "  <tbody>\n",
       "    <tr>\n",
       "      <th>0</th>\n",
       "      <td>Yêu thíchĐỒ BỘ NAM THỂ THAO THUN COTTON-NLSAO</td>\n",
       "      <td>Hàng đẹp mịn tốt êm nhẹ mặc rất mát công nhận ...</td>\n",
       "      <td>24/08/2022</td>\n",
       "      <td>Positive</td>\n",
       "      <td>Positive</td>\n",
       "      <td>Neutral</td>\n",
       "    </tr>\n",
       "    <tr>\n",
       "      <th>1</th>\n",
       "      <td>Yêu thíchĐỒ BỘ NAM THỂ THAO THUN COTTON-NLSAO</td>\n",
       "      <td>Mình mua giúp xóm. Nên ko có clip trả shop. Nh...</td>\n",
       "      <td>06/01/2023</td>\n",
       "      <td>Positive</td>\n",
       "      <td>Neutral</td>\n",
       "      <td>Neutral</td>\n",
       "    </tr>\n",
       "    <tr>\n",
       "      <th>2</th>\n",
       "      <td>Yêu thíchĐỒ BỘ NAM THỂ THAO THUN COTTON-NLSAO</td>\n",
       "      <td>Cảm ơn shop nhiều lắm luôn đồ đẹp lắm shop ơi\\...</td>\n",
       "      <td>21/02/2023</td>\n",
       "      <td>Positive</td>\n",
       "      <td>Neutral</td>\n",
       "      <td>Neutral</td>\n",
       "    </tr>\n",
       "    <tr>\n",
       "      <th>3</th>\n",
       "      <td>Yêu thíchĐỒ BỘ NAM THỂ THAO THUN COTTON-NLSAO</td>\n",
       "      <td>Màu sắc: nhạt hơn ảnhChất liệu mỏng nhưng so v...</td>\n",
       "      <td>14/08/2022</td>\n",
       "      <td>Neutral</td>\n",
       "      <td>Neutral</td>\n",
       "      <td>Positive</td>\n",
       "    </tr>\n",
       "    <tr>\n",
       "      <th>4</th>\n",
       "      <td>Yêu thíchĐỒ BỘ NAM THỂ THAO THUN COTTON-NLSAO</td>\n",
       "      <td>Giá này hàng cũng ok màu sắc đúng mô tả chất l...</td>\n",
       "      <td>30/12/2022</td>\n",
       "      <td>Positive</td>\n",
       "      <td>Neutral</td>\n",
       "      <td>Positive</td>\n",
       "    </tr>\n",
       "    <tr>\n",
       "      <th>...</th>\n",
       "      <td>...</td>\n",
       "      <td>...</td>\n",
       "      <td>...</td>\n",
       "      <td>...</td>\n",
       "      <td>...</td>\n",
       "      <td>...</td>\n",
       "    </tr>\n",
       "    <tr>\n",
       "      <th>6459</th>\n",
       "      <td>Ốp Lưng trong Hỗ trợ hút sạc không dây vòng tr...</td>\n",
       "      <td>Ốp đẹp lắm ạ,shop giao hàng nhanh,ốp trong suố...</td>\n",
       "      <td>03/05/2023</td>\n",
       "      <td>positive</td>\n",
       "      <td>neutral</td>\n",
       "      <td>positive</td>\n",
       "    </tr>\n",
       "    <tr>\n",
       "      <th>6460</th>\n",
       "      <td>Ốp Lưng trong Hỗ trợ hút sạc không dây vòng tr...</td>\n",
       "      <td>Giao hàng nhanh sp so vs giá tiền là hợp lý lê...</td>\n",
       "      <td>12/01/2022</td>\n",
       "      <td>neutral</td>\n",
       "      <td>positive</td>\n",
       "      <td>positive</td>\n",
       "    </tr>\n",
       "    <tr>\n",
       "      <th>6461</th>\n",
       "      <td>Ốp Lưng trong Hỗ trợ hút sạc không dây vòng tr...</td>\n",
       "      <td>Shop chuẩn bị hàng giao hàng siêu siêu nhanh,ố...</td>\n",
       "      <td>2/21/2023</td>\n",
       "      <td>positive</td>\n",
       "      <td>neutral</td>\n",
       "      <td>positive</td>\n",
       "    </tr>\n",
       "    <tr>\n",
       "      <th>6462</th>\n",
       "      <td>Ốp Lưng trong Hỗ trợ hút sạc không dây vòng tr...</td>\n",
       "      <td>Đúng với mô tả: dungChất lượng sản phẩm: 8/10R...</td>\n",
       "      <td>9/20/2023</td>\n",
       "      <td>positive</td>\n",
       "      <td>positive</td>\n",
       "      <td>neutral</td>\n",
       "    </tr>\n",
       "    <tr>\n",
       "      <th>6463</th>\n",
       "      <td>Ốp Lưng trong Hỗ trợ hút sạc không dây vòng tr...</td>\n",
       "      <td>Chất lượng sản phẩm: đẹpĐóng hàng cẩn thận hàn...</td>\n",
       "      <td>05/05/2023</td>\n",
       "      <td>neutral</td>\n",
       "      <td>positive</td>\n",
       "      <td>positive</td>\n",
       "    </tr>\n",
       "  </tbody>\n",
       "</table>\n",
       "<p>6464 rows × 6 columns</p>\n",
       "</div>"
      ],
      "text/plain": [
       "                                                 Tên sp  \\\n",
       "0         Yêu thíchĐỒ BỘ NAM THỂ THAO THUN COTTON-NLSAO   \n",
       "1         Yêu thíchĐỒ BỘ NAM THỂ THAO THUN COTTON-NLSAO   \n",
       "2         Yêu thíchĐỒ BỘ NAM THỂ THAO THUN COTTON-NLSAO   \n",
       "3         Yêu thíchĐỒ BỘ NAM THỂ THAO THUN COTTON-NLSAO   \n",
       "4         Yêu thíchĐỒ BỘ NAM THỂ THAO THUN COTTON-NLSAO   \n",
       "...                                                 ...   \n",
       "6459  Ốp Lưng trong Hỗ trợ hút sạc không dây vòng tr...   \n",
       "6460  Ốp Lưng trong Hỗ trợ hút sạc không dây vòng tr...   \n",
       "6461  Ốp Lưng trong Hỗ trợ hút sạc không dây vòng tr...   \n",
       "6462  Ốp Lưng trong Hỗ trợ hút sạc không dây vòng tr...   \n",
       "6463  Ốp Lưng trong Hỗ trợ hút sạc không dây vòng tr...   \n",
       "\n",
       "                                               Comments Time rating  \\\n",
       "0     Hàng đẹp mịn tốt êm nhẹ mặc rất mát công nhận ...  24/08/2022   \n",
       "1     Mình mua giúp xóm. Nên ko có clip trả shop. Nh...  06/01/2023   \n",
       "2     Cảm ơn shop nhiều lắm luôn đồ đẹp lắm shop ơi\\...  21/02/2023   \n",
       "3     Màu sắc: nhạt hơn ảnhChất liệu mỏng nhưng so v...  14/08/2022   \n",
       "4     Giá này hàng cũng ok màu sắc đúng mô tả chất l...  30/12/2022   \n",
       "...                                                 ...         ...   \n",
       "6459  Ốp đẹp lắm ạ,shop giao hàng nhanh,ốp trong suố...  03/05/2023   \n",
       "6460  Giao hàng nhanh sp so vs giá tiền là hợp lý lê...  12/01/2022   \n",
       "6461  Shop chuẩn bị hàng giao hàng siêu siêu nhanh,ố...   2/21/2023   \n",
       "6462  Đúng với mô tả: dungChất lượng sản phẩm: 8/10R...   9/20/2023   \n",
       "6463  Chất lượng sản phẩm: đẹpĐóng hàng cẩn thận hàn...  05/05/2023   \n",
       "\n",
       "     Mô tả sản phẩm Chất lượng sản phẩm Chất lượng vận chuyển  \n",
       "0          Positive            Positive               Neutral  \n",
       "1          Positive             Neutral               Neutral  \n",
       "2          Positive             Neutral               Neutral  \n",
       "3           Neutral             Neutral              Positive  \n",
       "4          Positive             Neutral              Positive  \n",
       "...             ...                 ...                   ...  \n",
       "6459       positive             neutral              positive  \n",
       "6460        neutral            positive              positive  \n",
       "6461       positive             neutral              positive  \n",
       "6462       positive            positive               neutral  \n",
       "6463        neutral            positive              positive  \n",
       "\n",
       "[6464 rows x 6 columns]"
      ]
     },
     "execution_count": 3,
     "metadata": {},
     "output_type": "execute_result"
    }
   ],
   "source": [
    "df=pd.read_csv(\"Model_Data.csv\")\n",
    "df"
   ]
  },
  {
   "cell_type": "code",
   "execution_count": 4,
   "metadata": {},
   "outputs": [],
   "source": [
    "server='mssql-156297-0.cloudclusters.net,16451'\n",
    "port=16451\n",
    "login_user='group6'\n",
    "password='Group6123'\n",
    "database='Group6'"
   ]
  },
  {
   "cell_type": "code",
   "execution_count": 5,
   "metadata": {},
   "outputs": [],
   "source": [
    "engine = \\\n",
    "create_engine(f\"mssql+pyodbc://{login_user}:{password}@{server}:{port}/{database}?driver=ODBC+Driver+17+for+SQL+Server\")"
   ]
  },
  {
   "cell_type": "code",
   "execution_count": 6,
   "metadata": {},
   "outputs": [],
   "source": [
    "txt_cols =df.select_dtypes(include=['object']).columns"
   ]
  },
  {
   "cell_type": "code",
   "execution_count": 7,
   "metadata": {},
   "outputs": [
    {
     "data": {
      "text/plain": [
       "-1"
      ]
     },
     "execution_count": 7,
     "metadata": {},
     "output_type": "execute_result"
    }
   ],
   "source": [
    "df.to_sql(\"Shopee\",\n",
    "          engine,\n",
    "          schema='dbo',\n",
    "          if_exists='append',\n",
    "          index=False,\n",
    "          dtype={col_name: NVARCHAR for col_name in txt_cols})"
   ]
  }
 ],
 "metadata": {
  "kernelspec": {
   "display_name": "base",
   "language": "python",
   "name": "python3"
  },
  "language_info": {
   "codemirror_mode": {
    "name": "ipython",
    "version": 3
   },
   "file_extension": ".py",
   "mimetype": "text/x-python",
   "name": "python",
   "nbconvert_exporter": "python",
   "pygments_lexer": "ipython3",
   "version": "3.11.5"
  }
 },
 "nbformat": 4,
 "nbformat_minor": 2
}
